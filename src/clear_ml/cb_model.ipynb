{
 "cells": [
  {
   "cell_type": "code",
   "execution_count": 1,
   "id": "8fb5d5d4-13ef-4993-b8f3-49f5af6aa475",
   "metadata": {},
   "outputs": [],
   "source": [
    "import os\n",
    "import numpy as np\n",
    "import pandas as pd\n",
    "from sklearn.model_selection import train_test_split\n",
    "from sklearn.metrics import classification_report, confusion_matrix\n",
    "from catboost import CatBoostClassifier\n",
    "import joblib\n",
    "from clearml import Dataset, Task\n",
    "\n",
    "from mlops_ods.config import compose_config"
   ]
  },
  {
   "cell_type": "code",
   "execution_count": 10,
   "id": "06007008-e9d7-4207-94b5-f9a621ba99c9",
   "metadata": {},
   "outputs": [],
   "source": [
    "cfg = compose_config()"
   ]
  },
  {
   "cell_type": "code",
   "execution_count": null,
   "id": "a388b8a8-466b-4ee7-9e48-b5334ea651cc",
   "metadata": {},
   "outputs": [],
   "source": [
    "task = Task.init(\n",
    "    project_name=\"Mlops-test\", task_name=\"catboost\", output_uri=True\n",
    ")\n",
    "frame_path = Dataset.get(\n",
    "    dataset_name=\"Raw data\", dataset_project=\"Mlops-test\"\n",
    ").get_local_copy()\n",
    "task.set_progress(0)\n",
    "data = pd.read_csv(\n",
    "    frame_path + \"/2015-street-tree-census-tree-data.csv\"\n",
    ")"
   ]
  },
  {
   "cell_type": "code",
   "execution_count": null,
   "id": "89ebab18-ec4a-43ff-9932-63dc85495ab6",
   "metadata": {},
   "outputs": [],
   "source": [
    "train, test = train_test_split(\n",
    "    data,\n",
    "    test_size=0.3,\n",
    "    random_state=42,\n",
    ")"
   ]
  },
  {
   "cell_type": "code",
   "execution_count": null,
   "id": "f3c3a952-05f2-49d4-91d0-98d37a950809",
   "metadata": {},
   "outputs": [],
   "source": [
    "num_cols = cfg.features.numerical\n",
    "cat_cols = cfg.features.categorical\n",
    "total_cols = num_cols + cat_cols\n",
    "\n",
    "train = train[~train[\"health\"].isna()]\n",
    "drop_columns(train)\n",
    "preprocess_data(train)\n",
    "train_features = train[total_cols]\n",
    "\n",
    "test = test[~test[\"health\"].isna()]\n",
    "drop_columns(test)\n",
    "preprocess_data(test)\n",
    "test_features = test[total_cols]"
   ]
  },
  {
   "cell_type": "code",
   "execution_count": null,
   "id": "e9ae87cb-153e-4105-a154-885b5ea248f1",
   "metadata": {},
   "outputs": [],
   "source": [
    "task.upload_artifact(\n",
    "    name=\"train_features_cb\",\n",
    "    artifact_object=train_features,\n",
    ")\n",
    "task.upload_artifact(\n",
    "    name=\"test_features_cb\",\n",
    "    artifact_object=test_features,\n",
    ")"
   ]
  },
  {
   "cell_type": "code",
   "execution_count": null,
   "id": "265e96a0-250e-458d-b6c0-8242c5cf9865",
   "metadata": {},
   "outputs": [],
   "source": [
    "model_params = {\n",
    "    \"iterations\": cfg.model.iterations, \n",
    "    \"verbose\": cfg.model.verbose,\n",
    "    \"random_seed\": cfg.model.random_seed,\n",
    "    \"cat_features\": cat_cols\n",
    "}\n",
    "task.connect(model_params)\n",
    "model = CatBoostClassifier(**model_params)\n",
    "model.fit(train_features, train[\"health\"])\n",
    "joblib.dump(model, \"models/model_cb.pkl\", compress=True)\n",
    "predicts = model.predict(test_features)\n",
    "report = classification_report(test[\"health\"], predicts, output_dict=True)\n",
    "confusion = confusion_matrix(test[\"health\"], predicts)\n",
    "\n",
    "logger = task.get_logger()\n",
    "logger.report_single_value(\"accuracy\", report.pop(\"accuracy\"))\n",
    "for class_name, metrics in report.items():\n",
    "    for metric, value in metrics.items():\n",
    "        logger.report_single_value(f\"{class_name}_{metric}\", value)\n",
    "logger.report_confusion_matrix(\"conflusion matrix\", \"ignored\", matrix=confusion)"
   ]
  },
  {
   "cell_type": "code",
   "execution_count": null,
   "id": "7d42897f-a798-4510-9d0b-ebff3df9ea5e",
   "metadata": {},
   "outputs": [],
   "source": [
    "task.close()"
   ]
  },
  {
   "cell_type": "code",
   "execution_count": null,
   "id": "1a6ae013-a140-4db0-8323-4720445f336a",
   "metadata": {},
   "outputs": [],
   "source": []
  },
  {
   "cell_type": "code",
   "execution_count": null,
   "id": "1ddebcd7-83f9-4b95-98c8-96c9ece96653",
   "metadata": {},
   "outputs": [],
   "source": []
  },
  {
   "cell_type": "code",
   "execution_count": null,
   "id": "8a926246-df82-40d4-b18b-591ad23921d2",
   "metadata": {},
   "outputs": [],
   "source": []
  }
 ],
 "metadata": {
  "kernelspec": {
   "display_name": "Python 3 (ipykernel)",
   "language": "python",
   "name": "python3"
  },
  "language_info": {
   "codemirror_mode": {
    "name": "ipython",
    "version": 3
   },
   "file_extension": ".py",
   "mimetype": "text/x-python",
   "name": "python",
   "nbconvert_exporter": "python",
   "pygments_lexer": "ipython3",
   "version": "3.11.8"
  }
 },
 "nbformat": 4,
 "nbformat_minor": 5
}
