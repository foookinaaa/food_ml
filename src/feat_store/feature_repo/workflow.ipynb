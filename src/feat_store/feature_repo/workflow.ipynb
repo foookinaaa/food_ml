{
 "cells": [
  {
   "cell_type": "code",
   "execution_count": 1,
   "metadata": {
    "pycharm": {
     "is_executing": true
    }
   },
   "outputs": [],
   "source": [
    "from workflow import fetch_online_features, fetch_historical_features_entity_df\n",
    "import subprocess\n",
    "from datetime import datetime\n",
    "\n",
    "import pandas as pd\n",
    "from feast import FeatureStore\n",
    "from feast.data_source import PushMode\n",
    "\n",
    "store = FeatureStore(repo_path=\".\")\n",
    "# list(meth for meth in dir(store) if not meth.startswith(\"_\"))"
   ]
  },
  {
   "cell_type": "code",
   "execution_count": 2,
   "metadata": {},
   "outputs": [
    {
     "name": "stderr",
     "output_type": "stream",
     "text": [
      "/Users/iuliia/projects/mlops/mlops_ods/venv/lib/python3.11/site-packages/feast/feature_store.py:589: RuntimeWarning: On demand feature view is an experimental feature. This API is stable, but the functionality does not scale well for offline retrieval\n",
      "  warnings.warn(\n",
      "06/28/2024 05:37:39 PM cassandra.cluster WARNING: Cluster.__init__ called with contact_points specified, but no load_balancing_policy. In the next major version, this will raise an error; please specify a load-balancing policy. (contact_points = ['127.0.0.1'], lbp = None)\n",
      "06/28/2024 05:37:39 PM cassandra.cluster WARNING: Downgrading core protocol version from 66 to 65 for 127.0.0.1:9042. To avoid this, it is best practice to explicitly set Cluster(protocol_version) to the version supported by your cluster. http://datastax.github.io/python-driver/api/cassandra/cluster.html#cassandra.cluster.Cluster.protocol_version\n",
      "06/28/2024 05:37:39 PM cassandra.cluster WARNING: Downgrading core protocol version from 65 to 5 for 127.0.0.1:9042. To avoid this, it is best practice to explicitly set Cluster(protocol_version) to the version supported by your cluster. http://datastax.github.io/python-driver/api/cassandra/cluster.html#cassandra.cluster.Cluster.protocol_version\n"
     ]
    },
    {
     "name": "stdout",
     "output_type": "stream",
     "text": [
      "Deploying infrastructure for tree_data_stats_fresh\n",
      "Deploying infrastructure for tree_data_stats\n"
     ]
    },
    {
     "data": {
      "text/plain": [
       "CompletedProcess(args=['feast', 'apply'], returncode=0)"
      ]
     },
     "execution_count": 2,
     "metadata": {},
     "output_type": "execute_result"
    }
   ],
   "source": [
    "subprocess.run([\"feast\", \"apply\"])"
   ]
  },
  {
   "cell_type": "code",
   "execution_count": 3,
   "metadata": {},
   "outputs": [
    {
     "name": "stderr",
     "output_type": "stream",
     "text": [
      "WARNING:root:_list_feature_views will make breaking changes. Please use _list_batch_feature_views instead. _list_feature_views will behave like _list_all_feature_views in the future.\n"
     ]
    },
    {
     "name": "stdout",
     "output_type": "stream",
     "text": [
      "\n",
      "--- Historical features for training ---\n",
      "   tree_id           event_timestamp root_stone root_grate root_other  \\\n",
      "0   536325 2024-06-28 00:00:00+00:00         No         No         No   \n",
      "1   247341 2024-06-28 00:00:00+00:00         No         No        Yes   \n",
      "\n",
      "         curb_loc trunk_wire trnk_light trnk_other brch_light  ...  \\\n",
      "0  OffsetFromCurb         No         No         No         No  ...   \n",
      "1          OnCurb         No         No        Yes         No  ...   \n",
      "\n",
      "  trnk_other_num brch_light_num brch_shoe_num brch_other_num curb_loc_num  \\\n",
      "0              0              0             0              0            0   \n",
      "1              1              0             0              1            1   \n",
      "\n",
      "  sidewalk_num steward_num  guards_num  problems_num  health_num  \n",
      "0            0           0           0             1           2  \n",
      "1            0           0           0             3           1  \n",
      "\n",
      "[2 rows x 32 columns]\n"
     ]
    }
   ],
   "source": [
    "print(\"\\n--- Historical features for training ---\")\n",
    "fetch_historical_features_entity_df(store, for_batch_scoring=False)"
   ]
  },
  {
   "cell_type": "code",
   "execution_count": 4,
   "metadata": {},
   "outputs": [
    {
     "name": "stderr",
     "output_type": "stream",
     "text": [
      "WARNING:root:_list_feature_views will make breaking changes. Please use _list_batch_feature_views instead. _list_feature_views will behave like _list_all_feature_views in the future.\n"
     ]
    },
    {
     "name": "stdout",
     "output_type": "stream",
     "text": [
      "\n",
      "--- Load features into online store ---\n",
      "Materializing \u001B[1m\u001B[32m2\u001B[0m feature views to \u001B[1m\u001B[32m2024-06-28 17:37:39+01:00\u001B[0m into the \u001B[1m\u001B[32mcassandra\u001B[0m online store.\n",
      "\n",
      "\u001B[1m\u001B[32mtree_data_stats\u001B[0m from \u001B[1m\u001B[32m2024-06-28 18:33:12+01:00\u001B[0m to \u001B[1m\u001B[32m2024-06-28 17:37:39+01:00\u001B[0m:\n"
     ]
    },
    {
     "name": "stderr",
     "output_type": "stream",
     "text": [
      "0it [00:00, ?it/s]"
     ]
    },
    {
     "name": "stdout",
     "output_type": "stream",
     "text": [
      "\u001B[1m\u001B[32mtree_data_stats_fresh\u001B[0m from \u001B[1m\u001B[32m2024-06-28 18:33:12+01:00\u001B[0m to \u001B[1m\u001B[32m2024-06-28 18:37:39+01:00\u001B[0m:\n"
     ]
    },
    {
     "name": "stderr",
     "output_type": "stream",
     "text": [
      "\n",
      "0it [00:00, ?it/s]\n"
     ]
    }
   ],
   "source": [
    "print(\"\\n--- Load features into online store ---\")\n",
    "store.materialize_incremental(end_date=datetime.now())"
   ]
  },
  {
   "cell_type": "code",
   "execution_count": 5,
   "metadata": {},
   "outputs": [
    {
     "name": "stderr",
     "output_type": "stream",
     "text": [
      "WARNING:root:_list_feature_views will make breaking changes. Please use _list_batch_feature_views instead. _list_feature_views will behave like _list_all_feature_views in the future.\n",
      "WARNING:cassandra.cluster:Cluster.__init__ called with contact_points specified, but no load_balancing_policy. In the next major version, this will raise an error; please specify a load-balancing policy. (contact_points = ['127.0.0.1'], lbp = None)\n",
      "WARNING:cassandra.cluster:Downgrading core protocol version from 66 to 65 for 127.0.0.1:9042. To avoid this, it is best practice to explicitly set Cluster(protocol_version) to the version supported by your cluster. http://datastax.github.io/python-driver/api/cassandra/cluster.html#cassandra.cluster.Cluster.protocol_version\n",
      "WARNING:cassandra.cluster:Downgrading core protocol version from 65 to 5 for 127.0.0.1:9042. To avoid this, it is best practice to explicitly set Cluster(protocol_version) to the version supported by your cluster. http://datastax.github.io/python-driver/api/cassandra/cluster.html#cassandra.cluster.Cluster.protocol_version\n"
     ]
    },
    {
     "name": "stdout",
     "output_type": "stream",
     "text": [
      "\n",
      "--- Online features ---\n",
      "brch_light  :  ['No', 'No']\n",
      "brch_light_num  :  [0, 0]\n",
      "brch_other  :  ['No', 'Yes']\n",
      "brch_other_num  :  [0, 1]\n",
      "brch_shoe  :  ['No', 'No']\n",
      "brch_shoe_num  :  [0, 0]\n",
      "curb_loc  :  ['OffsetFromCurb', 'OnCurb']\n",
      "curb_loc_num  :  [0, 1]\n",
      "guards  :  [None, None]\n",
      "health  :  ['Good', 'Fair']\n",
      "problems  :  [None, 'RootOther,TrunkOther,BranchOther']\n",
      "root_grate  :  ['No', 'No']\n",
      "root_other  :  ['No', 'Yes']\n",
      "root_stone  :  ['No', 'No']\n",
      "sidewalk  :  ['NoDamage', 'NoDamage']\n",
      "steward  :  [None, None]\n",
      "tree_id  :  [536325, 247341]\n",
      "trnk_light  :  ['No', 'No']\n",
      "trnk_other  :  ['No', 'Yes']\n",
      "trunk_wire  :  ['No', 'No']\n"
     ]
    }
   ],
   "source": [
    "print(\"\\n--- Online features ---\")\n",
    "fetch_online_features(store)"
   ]
  },
  {
   "cell_type": "code",
   "execution_count": 6,
   "metadata": {},
   "outputs": [
    {
     "name": "stdout",
     "output_type": "stream",
     "text": [
      "\n",
      "--- Online features retrieved (instead) through a feature service---\n"
     ]
    },
    {
     "name": "stderr",
     "output_type": "stream",
     "text": [
      "WARNING:root:_list_feature_views will make breaking changes. Please use _list_batch_feature_views instead. _list_feature_views will behave like _list_all_feature_views in the future.\n"
     ]
    },
    {
     "name": "stdout",
     "output_type": "stream",
     "text": [
      "brch_light_num  :  [0, 0]\n",
      "brch_other_num  :  [0, 1]\n",
      "brch_shoe_num  :  [0, 0]\n",
      "curb_loc_num  :  [0, 1]\n",
      "guards_num  :  [0, 0]\n",
      "health_num  :  [2, 1]\n",
      "problems_num  :  [1, 3]\n",
      "root_grate_num  :  [0, 0]\n",
      "root_other_num  :  [0, 1]\n",
      "root_stone_num  :  [0, 0]\n",
      "sidewalk_num  :  [0, 0]\n",
      "steward_num  :  [0, 0]\n",
      "tree_dbh  :  [56, 16]\n",
      "tree_id  :  [536325, 247341]\n",
      "trnk_light_num  :  [0, 0]\n",
      "trnk_other_num  :  [0, 1]\n",
      "trunk_wire_num  :  [0, 0]\n"
     ]
    }
   ],
   "source": [
    "print(\"\\n--- Online features retrieved (instead) through a feature service---\")\n",
    "fetch_online_features(store, source=\"feature_service\")"
   ]
  },
  {
   "cell_type": "code",
   "execution_count": 7,
   "metadata": {},
   "outputs": [
    {
     "name": "stderr",
     "output_type": "stream",
     "text": [
      "WARNING:root:_list_feature_views will make breaking changes. Please use _list_batch_feature_views instead. _list_feature_views will behave like _list_all_feature_views in the future.\n"
     ]
    },
    {
     "name": "stdout",
     "output_type": "stream",
     "text": [
      "--- Online features retrieved (using feature service v3, which uses a feature view with a push source---\n",
      "borough  :  ['Staten Island', 'Queens']\n",
      "brch_light  :  ['No', 'No']\n",
      "brch_light_num  :  [0, 0]\n",
      "brch_other  :  ['No', 'Yes']\n",
      "brch_other_num  :  [0, 1]\n",
      "brch_shoe  :  ['No', 'No']\n",
      "brch_shoe_num  :  [0, 0]\n",
      "curb_loc  :  ['OffsetFromCurb', 'OnCurb']\n",
      "curb_loc_num  :  [0, 1]\n",
      "guards  :  [None, None]\n",
      "guards_num  :  [0, 0]\n",
      "health  :  ['Good', 'Fair']\n",
      "health_num  :  [2, 1]\n",
      "problems  :  [None, 'RootOther,TrunkOther,BranchOther']\n",
      "problems_num  :  [1, 3]\n",
      "root_grate  :  ['No', 'No']\n",
      "root_grate_num  :  [0, 0]\n",
      "root_other  :  ['No', 'Yes']\n",
      "root_other_num  :  [0, 1]\n",
      "root_stone  :  ['No', 'No']\n",
      "root_stone_num  :  [0, 0]\n",
      "sidewalk  :  ['NoDamage', 'NoDamage']\n",
      "sidewalk_num  :  [0, 0]\n",
      "spc_common  :  ['ash', 'Norway maple']\n",
      "steward  :  [None, None]\n",
      "steward_num  :  [0, 0]\n",
      "tree_dbh  :  [56, 16]\n",
      "tree_id  :  [536325, 247341]\n",
      "trnk_light  :  ['No', 'No']\n",
      "trnk_light_num  :  [0, 0]\n",
      "trnk_other  :  ['No', 'Yes']\n",
      "trnk_other_num  :  [0, 1]\n",
      "trunk_wire  :  ['No', 'No']\n",
      "trunk_wire_num  :  [0, 0]\n",
      "user_type  :  ['NYC Parks Staff', 'NYC Parks Staff']\n",
      "zip_city  :  ['Staten Island', 'Bellerose']\n"
     ]
    }
   ],
   "source": [
    "print(\n",
    "    \"--- Online features retrieved (using feature service v2, which uses a feature view with a push source---\"\n",
    ")\n",
    "fetch_online_features(store, source=\"push\")"
   ]
  },
  {
   "cell_type": "code",
   "execution_count": 8,
   "metadata": {},
   "outputs": [
    {
     "name": "stderr",
     "output_type": "stream",
     "text": [
      "WARNING:root:list_feature_views will make breaking changes. Please use list_batch_feature_views instead. list_feature_views will behave like list_all_feature_views in the future.\n",
      "WARNING:root:_list_feature_views will make breaking changes. Please use _list_batch_feature_views instead. _list_feature_views will behave like _list_all_feature_views in the future.\n"
     ]
    },
    {
     "name": "stdout",
     "output_type": "stream",
     "text": [
      "\n",
      "--- Simulate a stream event ingestion of the hourly stats df ---\n",
      "   tree_id                  timestamp borough brch_light brch_other brch_shoe  \\\n",
      "0       -1 2024-06-28 17:37:49.030020  Queens         No         No        No   \n",
      "\n",
      "         curb_loc guards problems root_grate  ...  sidewalk spc_common  \\\n",
      "0  OffsetFromCurb   None     None         No  ...  NoDamage        ash   \n",
      "\n",
      "  steward tree_dbh trnk_light  trnk_other trunk_wire        user_type  \\\n",
      "0    None       56         No          No         No  NYC Parks Staff   \n",
      "\n",
      "        zip_city health  \n",
      "0  Staten Island   None  \n",
      "\n",
      "[1 rows x 22 columns]\n"
     ]
    }
   ],
   "source": [
    "print(\"\\n--- Simulate a stream event ingestion of the stats df ---\")\n",
    "event_df = pd.DataFrame.from_dict(\n",
    "    {\n",
    "        \"tree_id\": [-1],\n",
    "        \"timestamp\": [\n",
    "            datetime.now(),\n",
    "        ],\n",
    "        \"borough\": ['Queens'],\n",
    "        \"brch_light\": ['No'],\n",
    "        \"brch_other\": ['No'],\n",
    "        \"brch_shoe\": ['No'],\n",
    "        \"curb_loc\": ['OffsetFromCurb'],\n",
    "        \"guards\": [None],\n",
    "        \"problems\": [None],\n",
    "        \"root_grate\": ['No'],\n",
    "        \"root_other\": ['No'],\n",
    "        \"root_stone\": ['No'],\n",
    "        \"sidewalk\": ['NoDamage'],\n",
    "        \"spc_common\": ['ash'],\n",
    "        \"steward\": [None],\n",
    "        \"tree_dbh\": [56],\n",
    "        \"trnk_light\": ['No'],\n",
    "        \"trnk_other\": ['No'],\n",
    "        \"trunk_wire\": ['No'],\n",
    "        \"user_type\": ['NYC Parks Staff'],\n",
    "        \"zip_city\": ['Staten Island'],\n",
    "        \"health\": [None]\n",
    "    }\n",
    ")\n",
    "print(event_df)\n",
    "store.push(\"tree_data_stats_push_source\", event_df, to=PushMode.ONLINE)"
   ]
  },
  {
   "cell_type": "code",
   "execution_count": 9,
   "metadata": {},
   "outputs": [
    {
     "name": "stderr",
     "output_type": "stream",
     "text": [
      "WARNING:root:_list_feature_views will make breaking changes. Please use _list_batch_feature_views instead. _list_feature_views will behave like _list_all_feature_views in the future.\n"
     ]
    },
    {
     "name": "stdout",
     "output_type": "stream",
     "text": [
      "\n",
      "--- Online features again with updated values from a stream push---\n",
      "borough  :  ['Staten Island', 'Queens']\n",
      "brch_light  :  ['No', 'No']\n",
      "brch_light_num  :  [0, 0]\n",
      "brch_other  :  ['No', 'Yes']\n",
      "brch_other_num  :  [0, 1]\n",
      "brch_shoe  :  ['No', 'No']\n",
      "brch_shoe_num  :  [0, 0]\n",
      "curb_loc  :  ['OffsetFromCurb', 'OnCurb']\n",
      "curb_loc_num  :  [0, 1]\n",
      "guards  :  [None, None]\n",
      "guards_num  :  [0, 0]\n",
      "health  :  ['Good', 'Fair']\n",
      "health_num  :  [2, 1]\n",
      "problems  :  [None, 'RootOther,TrunkOther,BranchOther']\n",
      "problems_num  :  [1, 3]\n",
      "root_grate  :  ['No', 'No']\n",
      "root_grate_num  :  [0, 0]\n",
      "root_other  :  ['No', 'Yes']\n",
      "root_other_num  :  [0, 1]\n",
      "root_stone  :  ['No', 'No']\n",
      "root_stone_num  :  [0, 0]\n",
      "sidewalk  :  ['NoDamage', 'NoDamage']\n",
      "sidewalk_num  :  [0, 0]\n",
      "spc_common  :  ['ash', 'Norway maple']\n",
      "steward  :  [None, None]\n",
      "steward_num  :  [0, 0]\n",
      "tree_dbh  :  [56, 16]\n",
      "tree_id  :  [536325, 247341]\n",
      "trnk_light  :  ['No', 'No']\n",
      "trnk_light_num  :  [0, 0]\n",
      "trnk_other  :  ['No', 'Yes']\n",
      "trnk_other_num  :  [0, 1]\n",
      "trunk_wire  :  ['No', 'No']\n",
      "trunk_wire_num  :  [0, 0]\n",
      "user_type  :  ['NYC Parks Staff', 'NYC Parks Staff']\n",
      "zip_city  :  ['Staten Island', 'Bellerose']\n"
     ]
    }
   ],
   "source": [
    "print(\"\\n--- Online features again with updated values from a stream push---\")\n",
    "fetch_online_features(store, source=\"push\")"
   ]
  },
  {
   "cell_type": "code",
   "execution_count": 10,
   "metadata": {},
   "outputs": [
    {
     "name": "stderr",
     "output_type": "stream",
     "text": [
      "WARNING:root:_list_feature_views will make breaking changes. Please use _list_batch_feature_views instead. _list_feature_views will behave like _list_all_feature_views in the future.\n"
     ]
    },
    {
     "name": "stdout",
     "output_type": "stream",
     "text": [
      "brch_light_num  :  [0, 0]\n",
      "brch_other_num  :  [0, 1]\n",
      "brch_shoe_num  :  [0, 0]\n",
      "curb_loc_num  :  [0, 1]\n",
      "guards_num  :  [0, 0]\n",
      "health_num  :  [2, 1]\n",
      "problems_num  :  [1, 3]\n",
      "root_grate_num  :  [0, 0]\n",
      "root_other_num  :  [0, 1]\n",
      "root_stone_num  :  [0, 0]\n",
      "sidewalk_num  :  [0, 0]\n",
      "steward_num  :  [0, 0]\n",
      "tree_dbh  :  [56, 16]\n",
      "tree_id  :  [536325, 247341]\n",
      "trnk_light_num  :  [0, 0]\n",
      "trnk_other_num  :  [0, 1]\n",
      "trunk_wire_num  :  [0, 0]\n"
     ]
    }
   ],
   "source": [
    "fetch_online_features(store, source=\"feature_service\")"
   ]
  },
  {
   "cell_type": "code",
   "execution_count": 11,
   "metadata": {},
   "outputs": [
    {
     "name": "stdout",
     "output_type": "stream",
     "text": [
      "\n",
      "--- Run feast teardown ---\n"
     ]
    },
    {
     "name": "stderr",
     "output_type": "stream",
     "text": [
      "06/28/2024 05:37:54 PM root WARNING: list_feature_views will make breaking changes. Please use list_batch_feature_views instead. list_feature_views will behave like list_all_feature_views in the future.\n",
      "06/28/2024 05:37:54 PM root WARNING: _list_feature_views will make breaking changes. Please use _list_batch_feature_views instead. _list_feature_views will behave like _list_all_feature_views in the future.\n",
      "06/28/2024 05:37:54 PM cassandra.cluster WARNING: Cluster.__init__ called with contact_points specified, but no load_balancing_policy. In the next major version, this will raise an error; please specify a load-balancing policy. (contact_points = ['127.0.0.1'], lbp = None)\n",
      "06/28/2024 05:37:54 PM cassandra.cluster WARNING: Downgrading core protocol version from 66 to 65 for 127.0.0.1:9042. To avoid this, it is best practice to explicitly set Cluster(protocol_version) to the version supported by your cluster. http://datastax.github.io/python-driver/api/cassandra/cluster.html#cassandra.cluster.Cluster.protocol_version\n",
      "06/28/2024 05:37:54 PM cassandra.cluster WARNING: Downgrading core protocol version from 65 to 5 for 127.0.0.1:9042. To avoid this, it is best practice to explicitly set Cluster(protocol_version) to the version supported by your cluster. http://datastax.github.io/python-driver/api/cassandra/cluster.html#cassandra.cluster.Cluster.protocol_version\n"
     ]
    },
    {
     "data": {
      "text/plain": [
       "CompletedProcess(args=['feast', 'teardown'], returncode=0)"
      ]
     },
     "execution_count": 11,
     "metadata": {},
     "output_type": "execute_result"
    }
   ],
   "source": [
    "print(\"\\n--- Run feast teardown ---\")\n",
    "subprocess.run([\"feast\", \"teardown\"])"
   ]
  },
  {
   "cell_type": "code",
   "execution_count": null,
   "metadata": {},
   "outputs": [],
   "source": []
  }
 ],
 "metadata": {
  "kernelspec": {
   "display_name": "Python 3 (ipykernel)",
   "language": "python",
   "name": "python3"
  },
  "language_info": {
   "codemirror_mode": {
    "name": "ipython",
    "version": 3
   },
   "file_extension": ".py",
   "mimetype": "text/x-python",
   "name": "python",
   "nbconvert_exporter": "python",
   "pygments_lexer": "ipython3",
   "version": "3.11.8"
  }
 },
 "nbformat": 4,
 "nbformat_minor": 4
}
